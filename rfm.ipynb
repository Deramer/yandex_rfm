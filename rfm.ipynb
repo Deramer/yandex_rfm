{
 "cells": [
  {
   "cell_type": "code",
   "execution_count": 1,
   "metadata": {},
   "outputs": [],
   "source": [
    "import pandas as pd\n",
    "\n",
    "from datetime import datetime\n",
    "\n",
    "import seaborn as sns\n",
    "sns.set()"
   ]
  },
  {
   "cell_type": "markdown",
   "metadata": {},
   "source": [
    "В следующем абзаце парсится rfm.tsv. В нём содержатся символы, которые ломают парсер utf-8, поэтому пришлось подкостылить кодировку. По той же причине не работает нормально read_table. Эти символы зашиты куда-то в категории в строчках, которые не click, так что для этого анализа они не оч интересны.\n",
    "\n",
    "Хэдера тоже нет, добавил руками. Если что, порядок добавления элементов в словарь сохраняется с 3.7, так что rfm_dtypes.keys() возвращает ключи в указанном порядке.\n",
    "\n",
    "Обнуление data_list в конце -- кивок в сторону garbage collector, чтобы лишние сотни мб не висели в оперативке."
   ]
  },
  {
   "cell_type": "code",
   "execution_count": 2,
   "metadata": {
    "scrolled": true
   },
   "outputs": [],
   "source": [
    "rfm_dtypes = {\n",
    "    'timestamp': int,\n",
    "    'user_id': str,\n",
    "    'url': str,\n",
    "    'geo_id': int,\n",
    "    'category': int,\n",
    "    'price': int\n",
    "}\n",
    "\n",
    "data_list = []\n",
    "with open('rfm.tsv', encoding='cp1251') as rfm_file:\n",
    "    for line in rfm_file:\n",
    "        values = line.strip('\\n').split('\\t')\n",
    "        line_data = dict(zip(rfm_dtypes.keys(), values))\n",
    "        if line_data['url'] != 'click':\n",
    "            continue\n",
    "        del line_data['url']\n",
    "        line_data = {key: rfm_dtypes[key](value) for key, value in line_data.items()}\n",
    "        data_list.append(line_data)\n",
    "\n",
    "df = pd.DataFrame(data_list)\n",
    "data_list = None"
   ]
  },
  {
   "cell_type": "code",
   "execution_count": 3,
   "metadata": {},
   "outputs": [],
   "source": [
    "geo = pd.read_table('geo_table.tsv')\n",
    "categories = pd.read_table('categories_tree.tsv')"
   ]
  },
  {
   "cell_type": "code",
   "execution_count": 4,
   "metadata": {},
   "outputs": [
    {
     "data": {
      "text/html": [
       "<div>\n",
       "<style scoped>\n",
       "    .dataframe tbody tr th:only-of-type {\n",
       "        vertical-align: middle;\n",
       "    }\n",
       "\n",
       "    .dataframe tbody tr th {\n",
       "        vertical-align: top;\n",
       "    }\n",
       "\n",
       "    .dataframe thead th {\n",
       "        text-align: right;\n",
       "    }\n",
       "</style>\n",
       "<table border=\"1\" class=\"dataframe\">\n",
       "  <thead>\n",
       "    <tr style=\"text-align: right;\">\n",
       "      <th></th>\n",
       "      <th>timestamp</th>\n",
       "      <th>user_id</th>\n",
       "      <th>geo_id</th>\n",
       "      <th>category</th>\n",
       "      <th>price</th>\n",
       "    </tr>\n",
       "  </thead>\n",
       "  <tbody>\n",
       "    <tr>\n",
       "      <th>363308</th>\n",
       "      <td>1363707700</td>\n",
       "      <td>ffffd6bd3a3f1e7b3b92a790104a6ae4</td>\n",
       "      <td>35</td>\n",
       "      <td>91011</td>\n",
       "      <td>31</td>\n",
       "    </tr>\n",
       "    <tr>\n",
       "      <th>363309</th>\n",
       "      <td>1363707492</td>\n",
       "      <td>ffffd6bd3a3f1e7b3b92a790104a6ae4</td>\n",
       "      <td>35</td>\n",
       "      <td>91011</td>\n",
       "      <td>37</td>\n",
       "    </tr>\n",
       "    <tr>\n",
       "      <th>363310</th>\n",
       "      <td>1363708054</td>\n",
       "      <td>ffffd6bd3a3f1e7b3b92a790104a6ae4</td>\n",
       "      <td>35</td>\n",
       "      <td>91011</td>\n",
       "      <td>37</td>\n",
       "    </tr>\n",
       "    <tr>\n",
       "      <th>363311</th>\n",
       "      <td>1363707459</td>\n",
       "      <td>ffffd6bd3a3f1e7b3b92a790104a6ae4</td>\n",
       "      <td>35</td>\n",
       "      <td>91011</td>\n",
       "      <td>45</td>\n",
       "    </tr>\n",
       "    <tr>\n",
       "      <th>363312</th>\n",
       "      <td>1360163592</td>\n",
       "      <td>ffffda42ccd5f1ed15a700b23fc6c8e5</td>\n",
       "      <td>39</td>\n",
       "      <td>91491</td>\n",
       "      <td>16</td>\n",
       "    </tr>\n",
       "  </tbody>\n",
       "</table>\n",
       "</div>"
      ],
      "text/plain": [
       "         timestamp                           user_id  geo_id  category  price\n",
       "363308  1363707700  ffffd6bd3a3f1e7b3b92a790104a6ae4      35     91011     31\n",
       "363309  1363707492  ffffd6bd3a3f1e7b3b92a790104a6ae4      35     91011     37\n",
       "363310  1363708054  ffffd6bd3a3f1e7b3b92a790104a6ae4      35     91011     37\n",
       "363311  1363707459  ffffd6bd3a3f1e7b3b92a790104a6ae4      35     91011     45\n",
       "363312  1360163592  ffffda42ccd5f1ed15a700b23fc6c8e5      39     91491     16"
      ]
     },
     "execution_count": 4,
     "metadata": {},
     "output_type": "execute_result"
    }
   ],
   "source": [
    "df.tail()"
   ]
  },
  {
   "cell_type": "code",
   "execution_count": 5,
   "metadata": {},
   "outputs": [
    {
     "data": {
      "text/html": [
       "<div>\n",
       "<style scoped>\n",
       "    .dataframe tbody tr th:only-of-type {\n",
       "        vertical-align: middle;\n",
       "    }\n",
       "\n",
       "    .dataframe tbody tr th {\n",
       "        vertical-align: top;\n",
       "    }\n",
       "\n",
       "    .dataframe thead th {\n",
       "        text-align: right;\n",
       "    }\n",
       "</style>\n",
       "<table border=\"1\" class=\"dataframe\">\n",
       "  <thead>\n",
       "    <tr style=\"text-align: right;\">\n",
       "      <th></th>\n",
       "      <th>id</th>\n",
       "      <th>name</th>\n",
       "      <th>parent_region_id</th>\n",
       "      <th>type</th>\n",
       "      <th>TZ_OFFSET</th>\n",
       "    </tr>\n",
       "  </thead>\n",
       "  <tbody>\n",
       "    <tr>\n",
       "      <th>51661</th>\n",
       "      <td>127495</td>\n",
       "      <td>Котельников</td>\n",
       "      <td>99244.0</td>\n",
       "      <td>7</td>\n",
       "      <td>10800</td>\n",
       "    </tr>\n",
       "    <tr>\n",
       "      <th>51662</th>\n",
       "      <td>127496</td>\n",
       "      <td>Красноярский</td>\n",
       "      <td>99244.0</td>\n",
       "      <td>7</td>\n",
       "      <td>10800</td>\n",
       "    </tr>\n",
       "    <tr>\n",
       "      <th>51663</th>\n",
       "      <td>127497</td>\n",
       "      <td>Майоровский</td>\n",
       "      <td>99244.0</td>\n",
       "      <td>7</td>\n",
       "      <td>10800</td>\n",
       "    </tr>\n",
       "    <tr>\n",
       "      <th>51664</th>\n",
       "      <td>127498</td>\n",
       "      <td>Нагавская</td>\n",
       "      <td>99244.0</td>\n",
       "      <td>7</td>\n",
       "      <td>10800</td>\n",
       "    </tr>\n",
       "    <tr>\n",
       "      <th>51665</th>\n",
       "      <td>127499</td>\n",
       "      <td>Нагольный</td>\n",
       "      <td>99244.0</td>\n",
       "      <td>7</td>\n",
       "      <td>10800</td>\n",
       "    </tr>\n",
       "  </tbody>\n",
       "</table>\n",
       "</div>"
      ],
      "text/plain": [
       "           id          name  parent_region_id  type  TZ_OFFSET\n",
       "51661  127495   Котельников           99244.0     7      10800\n",
       "51662  127496  Красноярский           99244.0     7      10800\n",
       "51663  127497   Майоровский           99244.0     7      10800\n",
       "51664  127498     Нагавская           99244.0     7      10800\n",
       "51665  127499     Нагольный           99244.0     7      10800"
      ]
     },
     "execution_count": 5,
     "metadata": {},
     "output_type": "execute_result"
    }
   ],
   "source": [
    "geo.tail()"
   ]
  },
  {
   "cell_type": "code",
   "execution_count": 6,
   "metadata": {},
   "outputs": [
    {
     "data": {
      "text/html": [
       "<div>\n",
       "<style scoped>\n",
       "    .dataframe tbody tr th:only-of-type {\n",
       "        vertical-align: middle;\n",
       "    }\n",
       "\n",
       "    .dataframe tbody tr th {\n",
       "        vertical-align: top;\n",
       "    }\n",
       "\n",
       "    .dataframe thead th {\n",
       "        text-align: right;\n",
       "    }\n",
       "</style>\n",
       "<table border=\"1\" class=\"dataframe\">\n",
       "  <thead>\n",
       "    <tr style=\"text-align: right;\">\n",
       "      <th></th>\n",
       "      <th>id</th>\n",
       "      <th>parent_id</th>\n",
       "      <th>hyper_cat_id</th>\n",
       "      <th>category_name</th>\n",
       "      <th>category_pass</th>\n",
       "    </tr>\n",
       "  </thead>\n",
       "  <tbody>\n",
       "    <tr>\n",
       "      <th>1930</th>\n",
       "      <td>26387</td>\n",
       "      <td>23650</td>\n",
       "      <td>13061828</td>\n",
       "      <td>Клей</td>\n",
       "      <td>\\tВсе для офиса\\tРасходные материалы\\tКлей\\t</td>\n",
       "    </tr>\n",
       "    <tr>\n",
       "      <th>1931</th>\n",
       "      <td>84</td>\n",
       "      <td>23650</td>\n",
       "      <td>91046</td>\n",
       "      <td>Бумага и пленка</td>\n",
       "      <td>\\tВсе для офиса\\tРасходные материалы\\tБумага и...</td>\n",
       "    </tr>\n",
       "    <tr>\n",
       "      <th>1932</th>\n",
       "      <td>18585</td>\n",
       "      <td>23650</td>\n",
       "      <td>6268029</td>\n",
       "      <td>Расходные материалы для брошюровщиков</td>\n",
       "      <td>\\tВсе для офиса\\tРасходные материалы\\tРасходны...</td>\n",
       "    </tr>\n",
       "    <tr>\n",
       "      <th>1933</th>\n",
       "      <td>509</td>\n",
       "      <td>23650</td>\n",
       "      <td>90741</td>\n",
       "      <td>Скотч</td>\n",
       "      <td>\\tВсе для офиса\\tРасходные материалы\\tСкотч\\t</td>\n",
       "    </tr>\n",
       "    <tr>\n",
       "      <th>1934</th>\n",
       "      <td>510</td>\n",
       "      <td>23650</td>\n",
       "      <td>90742</td>\n",
       "      <td>Скрепки, кнопки</td>\n",
       "      <td>\\tВсе для офиса\\tРасходные материалы\\tСкрепки,...</td>\n",
       "    </tr>\n",
       "  </tbody>\n",
       "</table>\n",
       "</div>"
      ],
      "text/plain": [
       "         id  parent_id  hyper_cat_id                          category_name  \\\n",
       "1930  26387      23650      13061828                                   Клей   \n",
       "1931     84      23650         91046                        Бумага и пленка   \n",
       "1932  18585      23650       6268029  Расходные материалы для брошюровщиков   \n",
       "1933    509      23650         90741                                  Скотч   \n",
       "1934    510      23650         90742                        Скрепки, кнопки   \n",
       "\n",
       "                                          category_pass  \n",
       "1930       \\tВсе для офиса\\tРасходные материалы\\tКлей\\t  \n",
       "1931  \\tВсе для офиса\\tРасходные материалы\\tБумага и...  \n",
       "1932  \\tВсе для офиса\\tРасходные материалы\\tРасходны...  \n",
       "1933      \\tВсе для офиса\\tРасходные материалы\\tСкотч\\t  \n",
       "1934  \\tВсе для офиса\\tРасходные материалы\\tСкрепки,...  "
      ]
     },
     "execution_count": 6,
     "metadata": {},
     "output_type": "execute_result"
    }
   ],
   "source": [
    "categories.tail()"
   ]
  },
  {
   "cell_type": "code",
   "execution_count": 7,
   "metadata": {},
   "outputs": [],
   "source": [
    "df['dttm'] = df.timestamp.apply(lambda x: pd.Timestamp(x, unit='s'))"
   ]
  },
  {
   "cell_type": "code",
   "execution_count": 8,
   "metadata": {},
   "outputs": [
    {
     "data": {
      "text/plain": [
       "(Timestamp('2012-12-31 20:09:40'), Timestamp('2013-12-31 19:56:08'))"
      ]
     },
     "execution_count": 8,
     "metadata": {},
     "output_type": "execute_result"
    }
   ],
   "source": [
    "min(df.dttm), max(df.dttm)"
   ]
  },
  {
   "cell_type": "code",
   "execution_count": 9,
   "metadata": {},
   "outputs": [
    {
     "data": {
      "text/plain": [
       "<matplotlib.axes._subplots.AxesSubplot at 0x7fc8d04781d0>"
      ]
     },
     "execution_count": 9,
     "metadata": {},
     "output_type": "execute_result"
    },
    {
     "data": {
      "image/png": "[encoded data removed]",
      "text/plain": [
       "<Figure size 432x288 with 1 Axes>"
      ]
     },
     "metadata": {
      "needs_background": "light"
     },
     "output_type": "display_data"
    }
   ],
   "source": [
    "sns.countplot(df.dttm.dt.month)"
   ]
  },
  {
   "cell_type": "code",
   "execution_count": 10,
   "metadata": {},
   "outputs": [],
   "source": [
    "df_sample = df[(datetime(year=2013, month=7, day=1) > df.dttm) & (df.dttm > datetime(year=2013, month=6, day=1))]"
   ]
  },
  {
   "cell_type": "code",
   "execution_count": 11,
   "metadata": {},
   "outputs": [
    {
     "data": {
      "text/html": [
       "<div>\n",
       "<style scoped>\n",
       "    .dataframe tbody tr th:only-of-type {\n",
       "        vertical-align: middle;\n",
       "    }\n",
       "\n",
       "    .dataframe tbody tr th {\n",
       "        vertical-align: top;\n",
       "    }\n",
       "\n",
       "    .dataframe thead th {\n",
       "        text-align: right;\n",
       "    }\n",
       "</style>\n",
       "<table border=\"1\" class=\"dataframe\">\n",
       "  <thead>\n",
       "    <tr style=\"text-align: right;\">\n",
       "      <th></th>\n",
       "      <th>timestamp</th>\n",
       "      <th>user_id</th>\n",
       "      <th>geo_id</th>\n",
       "      <th>category</th>\n",
       "      <th>price</th>\n",
       "      <th>dttm</th>\n",
       "    </tr>\n",
       "  </thead>\n",
       "  <tbody>\n",
       "    <tr>\n",
       "      <th>102</th>\n",
       "      <td>1370680372</td>\n",
       "      <td>001725c32b8fd7289df6052edf999bd6</td>\n",
       "      <td>213</td>\n",
       "      <td>91491</td>\n",
       "      <td>64</td>\n",
       "      <td>2013-06-08 08:32:52</td>\n",
       "    </tr>\n",
       "    <tr>\n",
       "      <th>270</th>\n",
       "      <td>1370422908</td>\n",
       "      <td>0040041568f64b9b40baca2e81757e52</td>\n",
       "      <td>21</td>\n",
       "      <td>90401</td>\n",
       "      <td>10</td>\n",
       "      <td>2013-06-05 09:01:48</td>\n",
       "    </tr>\n",
       "    <tr>\n",
       "      <th>271</th>\n",
       "      <td>1370422818</td>\n",
       "      <td>0040041568f64b9b40baca2e81757e52</td>\n",
       "      <td>21</td>\n",
       "      <td>90401</td>\n",
       "      <td>26</td>\n",
       "      <td>2013-06-05 09:00:18</td>\n",
       "    </tr>\n",
       "    <tr>\n",
       "      <th>272</th>\n",
       "      <td>1370422985</td>\n",
       "      <td>0040041568f64b9b40baca2e81757e52</td>\n",
       "      <td>21</td>\n",
       "      <td>91167</td>\n",
       "      <td>10</td>\n",
       "      <td>2013-06-05 09:03:05</td>\n",
       "    </tr>\n",
       "    <tr>\n",
       "      <th>353</th>\n",
       "      <td>1371563843</td>\n",
       "      <td>0053453af8bd4491799b8384aba1435f</td>\n",
       "      <td>2</td>\n",
       "      <td>91491</td>\n",
       "      <td>46</td>\n",
       "      <td>2013-06-18 13:57:23</td>\n",
       "    </tr>\n",
       "    <tr>\n",
       "      <th>...</th>\n",
       "      <td>...</td>\n",
       "      <td>...</td>\n",
       "      <td>...</td>\n",
       "      <td>...</td>\n",
       "      <td>...</td>\n",
       "      <td>...</td>\n",
       "    </tr>\n",
       "    <tr>\n",
       "      <th>363108</th>\n",
       "      <td>1370179058</td>\n",
       "      <td>ffe49f815ad28a9d2de9ab97cb2fc6df</td>\n",
       "      <td>194</td>\n",
       "      <td>6269371</td>\n",
       "      <td>12</td>\n",
       "      <td>2013-06-02 13:17:38</td>\n",
       "    </tr>\n",
       "    <tr>\n",
       "      <th>363109</th>\n",
       "      <td>1370895369</td>\n",
       "      <td>ffe49f815ad28a9d2de9ab97cb2fc6df</td>\n",
       "      <td>194</td>\n",
       "      <td>6269371</td>\n",
       "      <td>14</td>\n",
       "      <td>2013-06-10 20:16:09</td>\n",
       "    </tr>\n",
       "    <tr>\n",
       "      <th>363204</th>\n",
       "      <td>1371364895</td>\n",
       "      <td>ffef09518dc1c41a9142c7d1af3b0717</td>\n",
       "      <td>11184</td>\n",
       "      <td>6101499</td>\n",
       "      <td>10</td>\n",
       "      <td>2013-06-16 06:41:35</td>\n",
       "    </tr>\n",
       "    <tr>\n",
       "      <th>363224</th>\n",
       "      <td>1371209680</td>\n",
       "      <td>fff21f91e25306f8ce63eb8f374dbf43</td>\n",
       "      <td>10951</td>\n",
       "      <td>7811901</td>\n",
       "      <td>270</td>\n",
       "      <td>2013-06-14 11:34:40</td>\n",
       "    </tr>\n",
       "    <tr>\n",
       "      <th>363228</th>\n",
       "      <td>1371633975</td>\n",
       "      <td>fff4d0392fd901fc40d408eeeee7e277</td>\n",
       "      <td>213</td>\n",
       "      <td>91491</td>\n",
       "      <td>10</td>\n",
       "      <td>2013-06-19 09:26:15</td>\n",
       "    </tr>\n",
       "  </tbody>\n",
       "</table>\n",
       "<p>27154 rows × 6 columns</p>\n",
       "</div>"
      ],
      "text/plain": [
       "         timestamp                           user_id  geo_id  category  price  \\\n",
       "102     1370680372  001725c32b8fd7289df6052edf999bd6     213     91491     64   \n",
       "270     1370422908  0040041568f64b9b40baca2e81757e52      21     90401     10   \n",
       "271     1370422818  0040041568f64b9b40baca2e81757e52      21     90401     26   \n",
       "272     1370422985  0040041568f64b9b40baca2e81757e52      21     91167     10   \n",
       "353     1371563843  0053453af8bd4491799b8384aba1435f       2     91491     46   \n",
       "...            ...                               ...     ...       ...    ...   \n",
       "363108  1370179058  ffe49f815ad28a9d2de9ab97cb2fc6df     194   6269371     12   \n",
       "363109  1370895369  ffe49f815ad28a9d2de9ab97cb2fc6df     194   6269371     14   \n",
       "363204  1371364895  ffef09518dc1c41a9142c7d1af3b0717   11184   6101499     10   \n",
       "363224  1371209680  fff21f91e25306f8ce63eb8f374dbf43   10951   7811901    270   \n",
       "363228  1371633975  fff4d0392fd901fc40d408eeeee7e277     213     91491     10   \n",
       "\n",
       "                      dttm  \n",
       "102    2013-06-08 08:32:52  \n",
       "270    2013-06-05 09:01:48  \n",
       "271    2013-06-05 09:00:18  \n",
       "272    2013-06-05 09:03:05  \n",
       "353    2013-06-18 13:57:23  \n",
       "...                    ...  \n",
       "363108 2013-06-02 13:17:38  \n",
       "363109 2013-06-10 20:16:09  \n",
       "363204 2013-06-16 06:41:35  \n",
       "363224 2013-06-14 11:34:40  \n",
       "363228 2013-06-19 09:26:15  \n",
       "\n",
       "[27154 rows x 6 columns]"
      ]
     },
     "execution_count": 11,
     "metadata": {},
     "output_type": "execute_result"
    }
   ],
   "source": [
    "df_sample"
   ]
  },
  {
   "cell_type": "code",
   "execution_count": 21,
   "metadata": {},
   "outputs": [],
   "source": [
    "def rfm_quantiles(data, parts=4, dttm_name='dttm', price_name='price', user_name='user_id'):\n",
    "    qs = [x / parts for x in range(parts)] + [1]\n",
    "    monetary = df[[user_name, price_name]].groupby(user_name, as_index=False).median()\n",
    "    monetary_edges = monetary[price_name].quantile(qs).tolist()\n",
    "    print(monetary_edges)"
   ]
  },
  {
   "cell_type": "code",
   "execution_count": 22,
   "metadata": {},
   "outputs": [
    {
     "name": "stdout",
     "output_type": "stream",
     "text": [
      "[0.0, 10.0, 11.0, 25.0, 1000.0]\n"
     ]
    }
   ],
   "source": [
    "rfm_quantiles(df)"
   ]
  },
  {
   "cell_type": "code",
   "execution_count": null,
   "metadata": {},
   "outputs": [],
   "source": []
  }
 ],
 "metadata": {
  "kernelspec": {
   "display_name": "Python 3",
   "language": "python",
   "name": "python3"
  },
  "language_info": {
   "codemirror_mode": {
    "name": "ipython",
    "version": 3
   },
   "file_extension": ".py",
   "mimetype": "text/x-python",
   "name": "python",
   "nbconvert_exporter": "python",
   "pygments_lexer": "ipython3",
   "version": "3.6.9"
  }
 },
 "nbformat": 4,
 "nbformat_minor": 2
}
