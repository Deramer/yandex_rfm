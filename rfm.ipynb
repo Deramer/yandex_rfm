{
 "cells": [
  {
   "cell_type": "code",
   "execution_count": 182,
   "metadata": {},
   "outputs": [],
   "source": [
    "import pandas as pd\n",
    "\n",
    "from datetime import datetime\n",
    "from more_itertools import windowed\n",
    "\n",
    "import seaborn as sns\n",
    "sns.set()"
   ]
  },
  {
   "cell_type": "markdown",
   "metadata": {},
   "source": [
    "В следующем абзаце парсится rfm.tsv. В нём содержатся символы, которые ломают парсер utf-8, поэтому пришлось подкостылить кодировку. По той же причине не работает нормально read_table. Эти символы зашиты куда-то в категории в строчках, которые не click, так что для этого анализа они не оч интересны.\n",
    "\n",
    "Хэдера тоже нет, добавил руками. Если что, порядок добавления элементов в словарь сохраняется с 3.7, так что rfm_dtypes.keys() возвращает ключи в указанном порядке.\n",
    "\n",
    "Обнуление data_list в конце -- кивок в сторону garbage collector, чтобы лишние сотни мб не висели в оперативке."
   ]
  },
  {
   "cell_type": "code",
   "execution_count": 183,
   "metadata": {
    "scrolled": true
   },
   "outputs": [],
   "source": [
    "rfm_dtypes = {\n",
    "    'timestamp': int,\n",
    "    'user_id': str,\n",
    "    'url': str,\n",
    "    'geo_id': int,\n",
    "    'category': int,\n",
    "    'price': int\n",
    "}\n",
    "\n",
    "data_list = []\n",
    "with open('rfm.tsv', encoding='cp1251') as rfm_file:\n",
    "    for line in rfm_file:\n",
    "        values = line.strip('\\n').split('\\t')\n",
    "        line_data = dict(zip(rfm_dtypes.keys(), values))\n",
    "        if line_data['url'] != 'click':\n",
    "            continue\n",
    "        del line_data['url']\n",
    "        line_data = {key: rfm_dtypes[key](value) for key, value in line_data.items()}\n",
    "        data_list.append(line_data)\n",
    "\n",
    "df = pd.DataFrame(data_list)\n",
    "data_list = None"
   ]
  },
  {
   "cell_type": "code",
   "execution_count": 184,
   "metadata": {},
   "outputs": [],
   "source": [
    "geo = pd.read_table('geo_table.tsv')\n",
    "categories = pd.read_table('categories_tree.tsv')"
   ]
  },
  {
   "cell_type": "code",
   "execution_count": 185,
   "metadata": {},
   "outputs": [
    {
     "data": {
      "text/html": [
       "<div>\n",
       "<style scoped>\n",
       "    .dataframe tbody tr th:only-of-type {\n",
       "        vertical-align: middle;\n",
       "    }\n",
       "\n",
       "    .dataframe tbody tr th {\n",
       "        vertical-align: top;\n",
       "    }\n",
       "\n",
       "    .dataframe thead th {\n",
       "        text-align: right;\n",
       "    }\n",
       "</style>\n",
       "<table border=\"1\" class=\"dataframe\">\n",
       "  <thead>\n",
       "    <tr style=\"text-align: right;\">\n",
       "      <th></th>\n",
       "      <th>timestamp</th>\n",
       "      <th>user_id</th>\n",
       "      <th>geo_id</th>\n",
       "      <th>category</th>\n",
       "      <th>price</th>\n",
       "    </tr>\n",
       "  </thead>\n",
       "  <tbody>\n",
       "    <tr>\n",
       "      <th>363308</th>\n",
       "      <td>1363707700</td>\n",
       "      <td>ffffd6bd3a3f1e7b3b92a790104a6ae4</td>\n",
       "      <td>35</td>\n",
       "      <td>91011</td>\n",
       "      <td>31</td>\n",
       "    </tr>\n",
       "    <tr>\n",
       "      <th>363309</th>\n",
       "      <td>1363707492</td>\n",
       "      <td>ffffd6bd3a3f1e7b3b92a790104a6ae4</td>\n",
       "      <td>35</td>\n",
       "      <td>91011</td>\n",
       "      <td>37</td>\n",
       "    </tr>\n",
       "    <tr>\n",
       "      <th>363310</th>\n",
       "      <td>1363708054</td>\n",
       "      <td>ffffd6bd3a3f1e7b3b92a790104a6ae4</td>\n",
       "      <td>35</td>\n",
       "      <td>91011</td>\n",
       "      <td>37</td>\n",
       "    </tr>\n",
       "    <tr>\n",
       "      <th>363311</th>\n",
       "      <td>1363707459</td>\n",
       "      <td>ffffd6bd3a3f1e7b3b92a790104a6ae4</td>\n",
       "      <td>35</td>\n",
       "      <td>91011</td>\n",
       "      <td>45</td>\n",
       "    </tr>\n",
       "    <tr>\n",
       "      <th>363312</th>\n",
       "      <td>1360163592</td>\n",
       "      <td>ffffda42ccd5f1ed15a700b23fc6c8e5</td>\n",
       "      <td>39</td>\n",
       "      <td>91491</td>\n",
       "      <td>16</td>\n",
       "    </tr>\n",
       "  </tbody>\n",
       "</table>\n",
       "</div>"
      ],
      "text/plain": [
       "         timestamp                           user_id  geo_id  category  price\n",
       "363308  1363707700  ffffd6bd3a3f1e7b3b92a790104a6ae4      35     91011     31\n",
       "363309  1363707492  ffffd6bd3a3f1e7b3b92a790104a6ae4      35     91011     37\n",
       "363310  1363708054  ffffd6bd3a3f1e7b3b92a790104a6ae4      35     91011     37\n",
       "363311  1363707459  ffffd6bd3a3f1e7b3b92a790104a6ae4      35     91011     45\n",
       "363312  1360163592  ffffda42ccd5f1ed15a700b23fc6c8e5      39     91491     16"
      ]
     },
     "execution_count": 185,
     "metadata": {},
     "output_type": "execute_result"
    }
   ],
   "source": [
    "df.tail()"
   ]
  },
  {
   "cell_type": "code",
   "execution_count": 186,
   "metadata": {},
   "outputs": [
    {
     "data": {
      "text/html": [
       "<div>\n",
       "<style scoped>\n",
       "    .dataframe tbody tr th:only-of-type {\n",
       "        vertical-align: middle;\n",
       "    }\n",
       "\n",
       "    .dataframe tbody tr th {\n",
       "        vertical-align: top;\n",
       "    }\n",
       "\n",
       "    .dataframe thead th {\n",
       "        text-align: right;\n",
       "    }\n",
       "</style>\n",
       "<table border=\"1\" class=\"dataframe\">\n",
       "  <thead>\n",
       "    <tr style=\"text-align: right;\">\n",
       "      <th></th>\n",
       "      <th>id</th>\n",
       "      <th>name</th>\n",
       "      <th>parent_region_id</th>\n",
       "      <th>type</th>\n",
       "      <th>TZ_OFFSET</th>\n",
       "    </tr>\n",
       "  </thead>\n",
       "  <tbody>\n",
       "    <tr>\n",
       "      <th>51661</th>\n",
       "      <td>127495</td>\n",
       "      <td>Котельников</td>\n",
       "      <td>99244.0</td>\n",
       "      <td>7</td>\n",
       "      <td>10800</td>\n",
       "    </tr>\n",
       "    <tr>\n",
       "      <th>51662</th>\n",
       "      <td>127496</td>\n",
       "      <td>Красноярский</td>\n",
       "      <td>99244.0</td>\n",
       "      <td>7</td>\n",
       "      <td>10800</td>\n",
       "    </tr>\n",
       "    <tr>\n",
       "      <th>51663</th>\n",
       "      <td>127497</td>\n",
       "      <td>Майоровский</td>\n",
       "      <td>99244.0</td>\n",
       "      <td>7</td>\n",
       "      <td>10800</td>\n",
       "    </tr>\n",
       "    <tr>\n",
       "      <th>51664</th>\n",
       "      <td>127498</td>\n",
       "      <td>Нагавская</td>\n",
       "      <td>99244.0</td>\n",
       "      <td>7</td>\n",
       "      <td>10800</td>\n",
       "    </tr>\n",
       "    <tr>\n",
       "      <th>51665</th>\n",
       "      <td>127499</td>\n",
       "      <td>Нагольный</td>\n",
       "      <td>99244.0</td>\n",
       "      <td>7</td>\n",
       "      <td>10800</td>\n",
       "    </tr>\n",
       "  </tbody>\n",
       "</table>\n",
       "</div>"
      ],
      "text/plain": [
       "           id          name  parent_region_id  type  TZ_OFFSET\n",
       "51661  127495   Котельников           99244.0     7      10800\n",
       "51662  127496  Красноярский           99244.0     7      10800\n",
       "51663  127497   Майоровский           99244.0     7      10800\n",
       "51664  127498     Нагавская           99244.0     7      10800\n",
       "51665  127499     Нагольный           99244.0     7      10800"
      ]
     },
     "execution_count": 186,
     "metadata": {},
     "output_type": "execute_result"
    }
   ],
   "source": [
    "geo.tail()"
   ]
  },
  {
   "cell_type": "code",
   "execution_count": 187,
   "metadata": {},
   "outputs": [
    {
     "data": {
      "text/html": [
       "<div>\n",
       "<style scoped>\n",
       "    .dataframe tbody tr th:only-of-type {\n",
       "        vertical-align: middle;\n",
       "    }\n",
       "\n",
       "    .dataframe tbody tr th {\n",
       "        vertical-align: top;\n",
       "    }\n",
       "\n",
       "    .dataframe thead th {\n",
       "        text-align: right;\n",
       "    }\n",
       "</style>\n",
       "<table border=\"1\" class=\"dataframe\">\n",
       "  <thead>\n",
       "    <tr style=\"text-align: right;\">\n",
       "      <th></th>\n",
       "      <th>id</th>\n",
       "      <th>parent_id</th>\n",
       "      <th>hyper_cat_id</th>\n",
       "      <th>category_name</th>\n",
       "      <th>category_pass</th>\n",
       "    </tr>\n",
       "  </thead>\n",
       "  <tbody>\n",
       "    <tr>\n",
       "      <th>1930</th>\n",
       "      <td>26387</td>\n",
       "      <td>23650</td>\n",
       "      <td>13061828</td>\n",
       "      <td>Клей</td>\n",
       "      <td>\\tВсе для офиса\\tРасходные материалы\\tКлей\\t</td>\n",
       "    </tr>\n",
       "    <tr>\n",
       "      <th>1931</th>\n",
       "      <td>84</td>\n",
       "      <td>23650</td>\n",
       "      <td>91046</td>\n",
       "      <td>Бумага и пленка</td>\n",
       "      <td>\\tВсе для офиса\\tРасходные материалы\\tБумага и...</td>\n",
       "    </tr>\n",
       "    <tr>\n",
       "      <th>1932</th>\n",
       "      <td>18585</td>\n",
       "      <td>23650</td>\n",
       "      <td>6268029</td>\n",
       "      <td>Расходные материалы для брошюровщиков</td>\n",
       "      <td>\\tВсе для офиса\\tРасходные материалы\\tРасходны...</td>\n",
       "    </tr>\n",
       "    <tr>\n",
       "      <th>1933</th>\n",
       "      <td>509</td>\n",
       "      <td>23650</td>\n",
       "      <td>90741</td>\n",
       "      <td>Скотч</td>\n",
       "      <td>\\tВсе для офиса\\tРасходные материалы\\tСкотч\\t</td>\n",
       "    </tr>\n",
       "    <tr>\n",
       "      <th>1934</th>\n",
       "      <td>510</td>\n",
       "      <td>23650</td>\n",
       "      <td>90742</td>\n",
       "      <td>Скрепки, кнопки</td>\n",
       "      <td>\\tВсе для офиса\\tРасходные материалы\\tСкрепки,...</td>\n",
       "    </tr>\n",
       "  </tbody>\n",
       "</table>\n",
       "</div>"
      ],
      "text/plain": [
       "         id  parent_id  hyper_cat_id                          category_name  \\\n",
       "1930  26387      23650      13061828                                   Клей   \n",
       "1931     84      23650         91046                        Бумага и пленка   \n",
       "1932  18585      23650       6268029  Расходные материалы для брошюровщиков   \n",
       "1933    509      23650         90741                                  Скотч   \n",
       "1934    510      23650         90742                        Скрепки, кнопки   \n",
       "\n",
       "                                          category_pass  \n",
       "1930       \\tВсе для офиса\\tРасходные материалы\\tКлей\\t  \n",
       "1931  \\tВсе для офиса\\tРасходные материалы\\tБумага и...  \n",
       "1932  \\tВсе для офиса\\tРасходные материалы\\tРасходны...  \n",
       "1933      \\tВсе для офиса\\tРасходные материалы\\tСкотч\\t  \n",
       "1934  \\tВсе для офиса\\tРасходные материалы\\tСкрепки,...  "
      ]
     },
     "execution_count": 187,
     "metadata": {},
     "output_type": "execute_result"
    }
   ],
   "source": [
    "categories.tail()"
   ]
  },
  {
   "cell_type": "code",
   "execution_count": 188,
   "metadata": {},
   "outputs": [],
   "source": [
    "df['dttm'] = df.timestamp.apply(lambda x: pd.Timestamp(x, unit='s'))"
   ]
  },
  {
   "cell_type": "code",
   "execution_count": 189,
   "metadata": {},
   "outputs": [
    {
     "data": {
      "text/plain": [
       "(Timestamp('2012-12-31 20:09:40'), Timestamp('2013-12-31 19:56:08'))"
      ]
     },
     "execution_count": 189,
     "metadata": {},
     "output_type": "execute_result"
    }
   ],
   "source": [
    "min(df.dttm), max(df.dttm)"
   ]
  },
  {
   "cell_type": "code",
   "execution_count": 190,
   "metadata": {},
   "outputs": [
    {
     "data": {
      "text/plain": [
       "<matplotlib.axes._subplots.AxesSubplot at 0x7fea97f44710>"
      ]
     },
     "execution_count": 190,
     "metadata": {},
     "output_type": "execute_result"
    },
    {
     "data": {
      "image/png": "[encoded data removed]",
      "text/plain": [
       "<Figure size 432x288 with 1 Axes>"
      ]
     },
     "metadata": {},
     "output_type": "display_data"
    }
   ],
   "source": [
    "sns.countplot(df.dttm.dt.month)"
   ]
  },
  {
   "cell_type": "markdown",
   "metadata": {},
   "source": [
    "R, recency, -- как давно человек совершал покупку. Подсчёт метрики выглядит straightforward, значительно интереснее понять, как правильно делить людей на классы по недавности. Следующий кусок кода вычисляет сдвиги по времени между кликами отдельного пользователя."
   ]
  },
  {
   "cell_type": "code",
   "execution_count": 191,
   "metadata": {},
   "outputs": [],
   "source": [
    "df_r = df[['user_id', 'dttm']].copy().sort_values(by=['user_id', 'dttm'], ascending=[True, True])\n",
    "df_r = df_r.reset_index(drop=True)\n",
    "df_r['user_id'] = df_r.user_id.apply(lambda x: int(x, 16))\n",
    "\n",
    "df_diff = df_r.diff().dropna().reset_index(drop=True)\n",
    "df_diff = df_diff[df_diff.user_id == 0]"
   ]
  },
  {
   "cell_type": "markdown",
   "metadata": {},
   "source": [
    "Ну и по сдвигам имеет смысл посчитать квантили. Я выбросил разницы меньше дня, отнеся их к одному посещению сайта. В плане recency нас слабо интересует происходящее в рамках одного подхода, зато огромное количество последовательных кликов давит всю остальную статистику обращений."
   ]
  },
  {
   "cell_type": "code",
   "execution_count": 192,
   "metadata": {},
   "outputs": [
    {
     "data": {
      "text/plain": [
       "[1.0, 3.0, 8.0, 25.0, 347.0]"
      ]
     },
     "execution_count": 192,
     "metadata": {},
     "output_type": "execute_result"
    }
   ],
   "source": [
    "qs = [x / 4 for x in range(4)] + [1]\n",
    "recency_edges = df_diff[df_diff.dttm.dt.days != 0].dttm.dt.days.quantile(qs).tolist()\n",
    "recency_edges"
   ]
  },
  {
   "cell_type": "markdown",
   "metadata": {},
   "source": [
    "25% квантиль -- 3 дня, 50% -- 8 дней. Тут есть большое желание обратиться к бизнесу и выяснить, чем пользователи на самом деле занимаются, что в 25% случаев они возвращаются в течение пары дней (важно: случаев, а не клиентов). Но в целом, даже на этом уровне хочется кидать напоминалки на почту через 3 и 7 дней. Какие именно -- нужно посмотреть, но навскидку стоит потестить вариации \"ты шопился и бросил, возвращайся к тем же товарам\" и \"вероятно, ты купил нужное, но тебя наверняка заинтересуют смежные товары\".\n",
    "\n",
    "(Под \"обратиться к бизнесу\" имеется в виду как непосредственное обращение к людям, которые исследовали вопрос, так и разбиение этих же данных по корневым категориям из соседнего файла и просмотр глазками происходящего.)\n",
    "\n",
    "Пока договоримся, что в терминах rfm меньше трёх дней -- свежачок, от 3 до 8 начинают отваливаться, от 8 до 25 -- теряющие интерес, и свыше 25 -- потерянные. Начинающим отваливаться напоминалки, теряющим интерес и \"хорошим\" по частоте/монетизации можно акций покидать, потерянных исследовать отдельно (какая часть из них ЦА и почему она отваливается). Всем программы лояльности, чтобы стрёмно было к конкурентам уходить."
   ]
  },
  {
   "cell_type": "markdown",
   "metadata": {},
   "source": [
    "Функция вычисления RFM.\n",
    "\n",
    "Деление F и M на части происходит по квантилям, на указанное число частей. R делится как описано выше.\n",
    "\n",
    "R = число дней с последней покупки клиента до конца 2013 (считаем это моментом анализа).\n",
    "\n",
    "F = число покупок в год. Нужно бы считать что-то типа взвешенного среднего числа покупок в месяц, с затуханием влияния старых месяцев, но с таким подходом есть свои проблемы (большое R убьёт F, например, так что нужно бы считать F на момент выхода из обслуживания... ещё подумаю над этим).\n",
    "\n",
    "M = медиана стоимости клика по пользователю. Но в данном кейсе я в эту метрику не верю, непонятно, почему она должна предсказывать поведение пользователя."
   ]
  },
  {
   "cell_type": "code",
   "execution_count": 193,
   "metadata": {},
   "outputs": [],
   "source": [
    "def rfm_quantiles(df, parts=4, dttm_name='dttm', price_name='price', user_name='user_id'):\n",
    "    rfm = {user: {} for user in set(df[user_name])}\n",
    "    \n",
    "    qs = [x / parts for x in range(parts)] + [1]\n",
    "    monetary = df[[user_name, price_name]].groupby(user_name, as_index=False).median()\n",
    "    monetary_edges = monetary[price_name].quantile(qs).tolist()\n",
    "    for record in monetary.to_dict('records'):\n",
    "        for m, (left, right) in enumerate(windowed(monetary_edges, n=2)):\n",
    "            if right >= record[price_name] >= left:\n",
    "                rfm[record[user_name]]['m'] = m\n",
    "                break\n",
    "    \n",
    "    frequency = df[[user_name, price_name]].groupby(user_name, as_index=False).count()\n",
    "    frequency = frequency.rename(columns={price_name: 'count'})\n",
    "    frequency_edges = frequency['count'].quantile(qs).tolist()\n",
    "    for record in frequency.to_dict('records'):\n",
    "        for f, (left, right) in enumerate(windowed(frequency_edges, n=2)):\n",
    "            if right >= record['count'] >= left:\n",
    "                rfm[record[user_name]]['f'] = f\n",
    "                break\n",
    "    \n",
    "    recency = df[[user_name, dttm_name]].sort_values(by=[user_name, dttm_name], ascending=True)\n",
    "    recency = recency.groupby(user_name, as_index=False).last()\n",
    "    recency['diff'] = (datetime(year=2014, month=1, day=1) - recency[dttm_name]).dt.days\n",
    "    recency_edges = [0.0, 3.0, 8.0, 25.0, 365.0]\n",
    "    for record in recency.to_dict('records'):\n",
    "        for r, (left, right) in enumerate(windowed(recency_edges, n=2)):\n",
    "            if right >= record['diff'] >= left:\n",
    "                rfm[record[user_name]]['r'] = r\n",
    "                break\n",
    "    \n",
    "    return rfm, {'recency_edges': recency_edges,\n",
    "                 'monetary_edges': monetary_edges,\n",
    "                 'frequency_edges': frequency_edges}"
   ]
  },
  {
   "cell_type": "code",
   "execution_count": 194,
   "metadata": {},
   "outputs": [],
   "source": [
    "rfm, edges = rfm_quantiles(df)"
   ]
  },
  {
   "cell_type": "code",
   "execution_count": 195,
   "metadata": {},
   "outputs": [
    {
     "data": {
      "text/plain": [
       "{'m': 2, 'f': 1, 'r': 2}"
      ]
     },
     "execution_count": 195,
     "metadata": {},
     "output_type": "execute_result"
    }
   ],
   "source": [
    "rfm['9cf2352eb67cfe5d4de94f99db0ce810']"
   ]
  },
  {
   "cell_type": "code",
   "execution_count": 196,
   "metadata": {},
   "outputs": [
    {
     "data": {
      "text/html": [
       "<div>\n",
       "<style scoped>\n",
       "    .dataframe tbody tr th:only-of-type {\n",
       "        vertical-align: middle;\n",
       "    }\n",
       "\n",
       "    .dataframe tbody tr th {\n",
       "        vertical-align: top;\n",
       "    }\n",
       "\n",
       "    .dataframe thead th {\n",
       "        text-align: right;\n",
       "    }\n",
       "</style>\n",
       "<table border=\"1\" class=\"dataframe\">\n",
       "  <thead>\n",
       "    <tr style=\"text-align: right;\">\n",
       "      <th></th>\n",
       "      <th>timestamp</th>\n",
       "      <th>user_id</th>\n",
       "      <th>geo_id</th>\n",
       "      <th>category</th>\n",
       "      <th>price</th>\n",
       "      <th>dttm</th>\n",
       "    </tr>\n",
       "  </thead>\n",
       "  <tbody>\n",
       "    <tr>\n",
       "      <th>221296</th>\n",
       "      <td>1385667630</td>\n",
       "      <td>9cf2352eb67cfe5d4de94f99db0ce810</td>\n",
       "      <td>213</td>\n",
       "      <td>90594</td>\n",
       "      <td>31</td>\n",
       "      <td>2013-11-28 19:40:30</td>\n",
       "    </tr>\n",
       "    <tr>\n",
       "      <th>221297</th>\n",
       "      <td>1386967592</td>\n",
       "      <td>9cf2352eb67cfe5d4de94f99db0ce810</td>\n",
       "      <td>213</td>\n",
       "      <td>91259</td>\n",
       "      <td>10</td>\n",
       "      <td>2013-12-13 20:46:32</td>\n",
       "    </tr>\n",
       "  </tbody>\n",
       "</table>\n",
       "</div>"
      ],
      "text/plain": [
       "         timestamp                           user_id  geo_id  category  price  \\\n",
       "221296  1385667630  9cf2352eb67cfe5d4de94f99db0ce810     213     90594     31   \n",
       "221297  1386967592  9cf2352eb67cfe5d4de94f99db0ce810     213     91259     10   \n",
       "\n",
       "                      dttm  \n",
       "221296 2013-11-28 19:40:30  \n",
       "221297 2013-12-13 20:46:32  "
      ]
     },
     "execution_count": 196,
     "metadata": {},
     "output_type": "execute_result"
    }
   ],
   "source": [
    "df[df.user_id == '9cf2352eb67cfe5d4de94f99db0ce810']"
   ]
  },
  {
   "cell_type": "code",
   "execution_count": 197,
   "metadata": {},
   "outputs": [
    {
     "data": {
      "text/plain": [
       "{'recency_edges': [0.0, 3.0, 8.0, 25.0, 365.0],\n",
       " 'monetary_edges': [0.0, 10.0, 11.0, 25.0, 1000.0],\n",
       " 'frequency_edges': [1.0, 1.0, 2.0, 5.0, 2356.0]}"
      ]
     },
     "execution_count": 197,
     "metadata": {},
     "output_type": "execute_result"
    }
   ],
   "source": [
    "edges"
   ]
  }
 ],
 "metadata": {
  "kernelspec": {
   "display_name": "Python 3",
   "language": "python",
   "name": "python3"
  },
  "language_info": {
   "codemirror_mode": {
    "name": "ipython",
    "version": 3
   },
   "file_extension": ".py",
   "mimetype": "text/x-python",
   "name": "python",
   "nbconvert_exporter": "python",
   "pygments_lexer": "ipython3",
   "version": "3.6.9"
  }
 },
 "nbformat": 4,
 "nbformat_minor": 2
}
